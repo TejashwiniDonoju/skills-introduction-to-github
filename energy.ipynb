{
  "nbformat": 4,
  "nbformat_minor": 0,
  "metadata": {
    "colab": {
      "provenance": [],
      "authorship_tag": "ABX9TyOz5AskKGQgTgLgbaL68/Iu",
      "include_colab_link": true
    },
    "kernelspec": {
      "name": "python3",
      "display_name": "Python 3"
    },
    "language_info": {
      "name": "python"
    }
  },
  "cells": [
    {
      "cell_type": "markdown",
      "metadata": {
        "id": "view-in-github",
        "colab_type": "text"
      },
      "source": [
        "<a href=\"https://colab.research.google.com/github/TejashwiniDonoju/skills-introduction-to-github/blob/main/energy.ipynb\" target=\"_parent\"><img src=\"https://colab.research.google.com/assets/colab-badge.svg\" alt=\"Open In Colab\"/></a>"
      ]
    },
    {
      "cell_type": "code",
      "execution_count": null,
      "metadata": {
        "colab": {
          "base_uri": "https://localhost:8080/"
        },
        "id": "WoGPEZKULvgo",
        "outputId": "c4925130-4709-4f01-a44a-5311edc4ace2"
      },
      "outputs": [
        {
          "output_type": "stream",
          "name": "stdout",
          "text": [
            "   Serial No Country code Country name  Year       GDP ($)  Population growth (annual %)  Energy use per capita (kilograms of oil equivalent)  Urban population growth (annual %)\n",
            "0       1954          IND        India  1991  2.675235e+11                          1.98                                             380.24                                  2.84\n",
            "1       1955          IND        India  1992  2.455532e+11                          1.86                                             388.10                                  2.71\n",
            "2       1956          IND        India  1993  2.760374e+11                          1.85                                             389.69                                  2.70\n",
            "3       1957          IND        India  1994  3.235061e+11                          1.80                                             397.57                                  2.64\n",
            "4       1958          IND        India  1995  3.562990e+11                          1.78                                             412.24                                  2.61\n",
            "5       1959          IND        India  1996  3.883439e+11                          1.76                                             418.10                                  2.59\n",
            "6       1960          IND        India  1997  4.109152e+11                          1.74                                             426.97                                  2.56\n",
            "7       1961          IND        India  1998  4.162524e+11                          1.72                                             429.92                                  2.53\n",
            "8       1962          IND        India  1999  4.504762e+11                          1.70                                             448.78                                  2.50\n",
            "9       1963          IND        India  2000  4.601820e+11                          1.68                                             450.05                                  2.48\n"
          ]
        }
      ],
      "source": [
        "import pandas as pd\n",
        "\n",
        "df = pd.read_csv(\"/content/sample_data/Projected annual temperature change (2045-2065 Celsius) - Data.csv\")\n",
        "\n",
        "df = df.drop(columns=[\"SCALE\", \"Decimals\"])\n",
        "\n",
        "df = df.replace(\"..\", pd.NA)\n",
        "\n",
        "year_cols = df.columns[5:]\n",
        "\n",
        "df[year_cols] = df[year_cols].apply(pd.to_numeric, errors=\"coerce\")\n",
        "\n",
        "df_long = df.melt(\n",
        "    id_vars=[\"Country code\", \"Country name\", \"Series name\"],\n",
        "    value_vars=year_cols,\n",
        "    var_name=\"Year\",\n",
        "    value_name=\"Value\"\n",
        ")\n",
        "\n",
        "df_long = df_long[df_long[\"Series name\"] != \"Year\"]\n",
        "\n",
        "df_wide = df_long.pivot(\n",
        "    index=[\"Country code\", \"Country name\", \"Year\"],\n",
        "    columns=\"Series name\",\n",
        "    values=\"Value\"\n",
        ").reset_index()\n",
        "\n",
        "df_wide.columns.name = None\n",
        "\n",
        "if \"Series name\" in df_wide.columns:\n",
        "    df_wide = df_wide.drop(columns=[\"Series name\"])\n",
        "\n",
        "df_wide = df_wide.reset_index(drop=True)\n",
        "\n",
        "df_wide.insert(0, \"Serial No\", range(1, len(df_wide) + 1))\n",
        "\n",
        "required_indicators = [\n",
        "    \"GDP ($)\",\n",
        "    \"Population growth (annual %)\",\n",
        "    \"Energy use per capita (kilograms of oil equivalent)\",\n",
        "    \"Urban population growth (annual %)\"\n",
        "]\n",
        "\n",
        "available = [c for c in required_indicators if c in df_wide.columns]\n",
        "\n",
        "df_clean = df_wide[[\"Serial No\", \"Country code\", \"Country name\", \"Year\"] + available]\n",
        "\n",
        "df_india = df_clean[df_clean[\"Country name\"] == \"India\"].reset_index(drop=True)\n",
        "\n",
        "pd.set_option(\"display.max_columns\", None)\n",
        "pd.set_option(\"display.width\", 2000)\n",
        "\n",
        "print(df_india.head(10))\n",
        "\n",
        "x=df_india.drop('Energy use per capita (kilograms of oil equivalent)', axis=1)\n",
        "\n",
        "y=df_india['Energy use per capita (kilograms of oil equivalent)']\n",
        "\n",
        "x\n",
        "\n",
        "y\n",
        "\n",
        "from sklearn.model_selection import train_test_split\n",
        "\n",
        "x_Train, x_Test, y_Train, y_Test=train_test_split(x,y,test_size=0.2, random_state=42)\n",
        "\n",
        "x_Train\n",
        "\n",
        "from sklearn.linear_model import LinearRegression\n",
        "\n",
        "model=LinearRegression()"
      ]
    }
  ]
}